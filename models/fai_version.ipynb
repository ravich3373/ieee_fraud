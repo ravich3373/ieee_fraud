{
 "cells": [
  {
   "cell_type": "code",
   "execution_count": 4,
   "metadata": {},
   "outputs": [],
   "source": [
    "import fastai"
   ]
  },
  {
   "cell_type": "code",
   "execution_count": 5,
   "metadata": {},
   "outputs": [
    {
     "data": {
      "text/plain": [
       "'1.0.56.dev0'"
      ]
     },
     "execution_count": 5,
     "metadata": {},
     "output_type": "execute_result"
    }
   ],
   "source": [
    "fastai.__version__"
   ]
  },
  {
   "cell_type": "code",
   "execution_count": 6,
   "metadata": {},
   "outputs": [],
   "source": [
    "from fastai.tabular import *"
   ]
  },
  {
   "cell_type": "code",
   "execution_count": 7,
   "metadata": {},
   "outputs": [],
   "source": [
    "adult = untar_data(URLs.ADULT_SAMPLE)\n",
    "df = pd.read_csv(adult/'adult.csv')\n",
    "dep_var = 'salary'\n",
    "cat_names = ['workclass', 'education', 'marital-status', 'occupation', 'relationship', 'race', 'sex', 'native-country']\n",
    "cont_names = ['education-num', 'hours-per-week', 'age', 'capital-loss', 'fnlwgt', 'capital-gain']\n",
    "procs = [FillMissing, Categorify, Normalize]"
   ]
  },
  {
   "cell_type": "code",
   "execution_count": 13,
   "metadata": {},
   "outputs": [
    {
     "data": {
      "text/plain": [
       "PosixPath('/home/ravi/.fastai/data/adult_sample')"
      ]
     },
     "execution_count": 13,
     "metadata": {},
     "output_type": "execute_result"
    }
   ],
   "source": [
    "adult"
   ]
  },
  {
   "cell_type": "code",
   "execution_count": 9,
   "metadata": {},
   "outputs": [],
   "source": [
    "data = (TabularList.from_df(df, path=adult, cat_names=cat_names, cont_names=cont_names, procs=procs)\n",
    "                           .split_by_idx(valid_idx=range(800,1000))\n",
    "                           .label_from_df(cols=dep_var)\n",
    "                           .databunch())"
   ]
  },
  {
   "cell_type": "code",
   "execution_count": 10,
   "metadata": {},
   "outputs": [],
   "source": [
    "tl = TabularList.from_df(df, path=adult, cat_names=cat_names, cont_names=cont_names, procs=procs)"
   ]
  },
  {
   "cell_type": "code",
   "execution_count": 12,
   "metadata": {},
   "outputs": [
    {
     "data": {
      "text/plain": [
       "fastai.tabular.data.TabularList"
      ]
     },
     "execution_count": 12,
     "metadata": {},
     "output_type": "execute_result"
    }
   ],
   "source": [
    "tl.__class__"
   ]
  },
  {
   "cell_type": "code",
   "execution_count": 17,
   "metadata": {},
   "outputs": [],
   "source": [
    "tls = tl.split_by_idx(valid_idx=range(800,1000))"
   ]
  },
  {
   "cell_type": "code",
   "execution_count": 21,
   "metadata": {},
   "outputs": [
    {
     "data": {
      "text/plain": [
       "fastai.data_block.ItemLists"
      ]
     },
     "execution_count": 21,
     "metadata": {},
     "output_type": "execute_result"
    }
   ],
   "source": [
    "tls.__class__"
   ]
  },
  {
   "cell_type": "code",
   "execution_count": 22,
   "metadata": {},
   "outputs": [],
   "source": [
    "tls_lls = tls.label_from_df(cols=dep_var)"
   ]
  },
  {
   "cell_type": "code",
   "execution_count": 24,
   "metadata": {},
   "outputs": [
    {
     "data": {
      "text/plain": [
       "fastai.data_block.LabelLists"
      ]
     },
     "execution_count": 24,
     "metadata": {},
     "output_type": "execute_result"
    }
   ],
   "source": [
    "tls_lls.__class__"
   ]
  },
  {
   "cell_type": "markdown",
   "metadata": {},
   "source": [
    "##### itemlists does not have label_from_df\n",
    "    1) itemlists implements __getattr__\n",
    "    2) this is specially designed to conv itemlists to labellists"
   ]
  },
  {
   "cell_type": "code",
   "execution_count": 27,
   "metadata": {},
   "outputs": [],
   "source": [
    "db = tls_lls.databunch()"
   ]
  },
  {
   "cell_type": "code",
   "execution_count": 29,
   "metadata": {},
   "outputs": [
    {
     "data": {
      "text/plain": [
       "LabelLists;\n",
       "\n",
       "Train: LabelList (32361 items)\n",
       "x: TabularList\n",
       "workclass  Private; education  Assoc-acdm; marital-status  Married-civ-spouse; occupation #na#; relationship  Wife; race  White; sex  Female; native-country  United-States; education-num_na False; education-num 0.7511; hours-per-week -0.0356; age 0.7632; capital-loss 4.5076; fnlwgt -0.8381; capital-gain -0.1459; ,workclass  Private; education  Masters; marital-status  Divorced; occupation  Exec-managerial; relationship  Not-in-family; race  White; sex  Male; native-country  United-States; education-num_na False; education-num 1.5334; hours-per-week 0.3694; age 0.3968; capital-loss -0.2164; fnlwgt 0.4458; capital-gain 1.2747; ,workclass  Private; education  HS-grad; marital-status  Divorced; occupation #na#; relationship  Unmarried; race  Black; sex  Female; native-country  United-States; education-num_na True; education-num -0.0312; hours-per-week -0.6836; age -0.0430; capital-loss -0.2164; fnlwgt -0.8868; capital-gain -0.1459; ,workclass  Self-emp-inc; education  Prof-school; marital-status  Married-civ-spouse; occupation  Prof-specialty; relationship  Husband; race  Asian-Pac-Islander; sex  Male; native-country  United-States; education-num_na False; education-num 1.9245; hours-per-week -0.0356; age -0.0430; capital-loss -0.2164; fnlwgt -0.7288; capital-gain -0.1459; ,workclass  Self-emp-not-inc; education  7th-8th; marital-status  Married-civ-spouse; occupation  Other-service; relationship  Wife; race  Black; sex  Female; native-country  United-States; education-num_na True; education-num -0.0312; hours-per-week 0.7743; age 0.2502; capital-loss -0.2164; fnlwgt -1.0185; capital-gain -0.1459; \n",
       "y: CategoryList\n",
       ">=50k,>=50k,<50k,>=50k,<50k\n",
       "Path: /home/ravi/.fastai/data/adult_sample;\n",
       "\n",
       "Valid: LabelList (200 items)\n",
       "x: TabularList\n",
       "workclass  Private; education  Some-college; marital-status  Divorced; occupation  Handlers-cleaners; relationship  Unmarried; race  White; sex  Female; native-country  United-States; education-num_na True; education-num -0.0312; hours-per-week -0.0356; age 0.4701; capital-loss -0.2164; fnlwgt -0.8793; capital-gain -0.1459; ,workclass  Self-emp-inc; education  Prof-school; marital-status  Married-civ-spouse; occupation  Prof-specialty; relationship  Husband; race  White; sex  Male; native-country  United-States; education-num_na True; education-num -0.0312; hours-per-week 1.5843; age 0.5434; capital-loss -0.2164; fnlwgt 0.0290; capital-gain 1.8829; ,workclass  Private; education  Assoc-voc; marital-status  Divorced; occupation #na#; relationship  Not-in-family; race  White; sex  Male; native-country  United-States; education-num_na True; education-num -0.0312; hours-per-week -0.1976; age -0.1896; capital-loss -0.2164; fnlwgt 1.7704; capital-gain -0.1459; ,workclass  Federal-gov; education  Bachelors; marital-status  Never-married; occupation  Tech-support; relationship  Not-in-family; race  White; sex  Male; native-country  United-States; education-num_na True; education-num -0.0312; hours-per-week 0.3694; age -0.9959; capital-loss -0.2164; fnlwgt -1.3242; capital-gain -0.1459; ,workclass  Private; education  Bachelors; marital-status  Married-civ-spouse; occupation #na#; relationship  Husband; race  White; sex  Male; native-country  United-States; education-num_na True; education-num -0.0312; hours-per-week -0.0356; age -0.1163; capital-loss -0.2164; fnlwgt -0.2389; capital-gain -0.1459; \n",
       "y: CategoryList\n",
       "<50k,>=50k,<50k,<50k,<50k\n",
       "Path: /home/ravi/.fastai/data/adult_sample;\n",
       "\n",
       "Test: None"
      ]
     },
     "execution_count": 29,
     "metadata": {},
     "output_type": "execute_result"
    }
   ],
   "source": [
    "tls_lls"
   ]
  },
  {
   "cell_type": "code",
   "execution_count": 30,
   "metadata": {},
   "outputs": [
    {
     "data": {
      "text/plain": [
       "TabularDataBunch;\n",
       "\n",
       "Train: LabelList (32361 items)\n",
       "x: TabularList\n",
       "workclass  Private; education  Assoc-acdm; marital-status  Married-civ-spouse; occupation #na#; relationship  Wife; race  White; sex  Female; native-country  United-States; education-num_na False; education-num 0.7511; hours-per-week -0.0356; age 0.7632; capital-loss 4.5076; fnlwgt -0.8381; capital-gain -0.1459; ,workclass  Private; education  Masters; marital-status  Divorced; occupation  Exec-managerial; relationship  Not-in-family; race  White; sex  Male; native-country  United-States; education-num_na False; education-num 1.5334; hours-per-week 0.3694; age 0.3968; capital-loss -0.2164; fnlwgt 0.4458; capital-gain 1.2747; ,workclass  Private; education  HS-grad; marital-status  Divorced; occupation #na#; relationship  Unmarried; race  Black; sex  Female; native-country  United-States; education-num_na True; education-num -0.0312; hours-per-week -0.6836; age -0.0430; capital-loss -0.2164; fnlwgt -0.8868; capital-gain -0.1459; ,workclass  Self-emp-inc; education  Prof-school; marital-status  Married-civ-spouse; occupation  Prof-specialty; relationship  Husband; race  Asian-Pac-Islander; sex  Male; native-country  United-States; education-num_na False; education-num 1.9245; hours-per-week -0.0356; age -0.0430; capital-loss -0.2164; fnlwgt -0.7288; capital-gain -0.1459; ,workclass  Self-emp-not-inc; education  7th-8th; marital-status  Married-civ-spouse; occupation  Other-service; relationship  Wife; race  Black; sex  Female; native-country  United-States; education-num_na True; education-num -0.0312; hours-per-week 0.7743; age 0.2502; capital-loss -0.2164; fnlwgt -1.0185; capital-gain -0.1459; \n",
       "y: CategoryList\n",
       ">=50k,>=50k,<50k,>=50k,<50k\n",
       "Path: /home/ravi/.fastai/data/adult_sample;\n",
       "\n",
       "Valid: LabelList (200 items)\n",
       "x: TabularList\n",
       "workclass  Private; education  Some-college; marital-status  Divorced; occupation  Handlers-cleaners; relationship  Unmarried; race  White; sex  Female; native-country  United-States; education-num_na True; education-num -0.0312; hours-per-week -0.0356; age 0.4701; capital-loss -0.2164; fnlwgt -0.8793; capital-gain -0.1459; ,workclass  Self-emp-inc; education  Prof-school; marital-status  Married-civ-spouse; occupation  Prof-specialty; relationship  Husband; race  White; sex  Male; native-country  United-States; education-num_na True; education-num -0.0312; hours-per-week 1.5843; age 0.5434; capital-loss -0.2164; fnlwgt 0.0290; capital-gain 1.8829; ,workclass  Private; education  Assoc-voc; marital-status  Divorced; occupation #na#; relationship  Not-in-family; race  White; sex  Male; native-country  United-States; education-num_na True; education-num -0.0312; hours-per-week -0.1976; age -0.1896; capital-loss -0.2164; fnlwgt 1.7704; capital-gain -0.1459; ,workclass  Federal-gov; education  Bachelors; marital-status  Never-married; occupation  Tech-support; relationship  Not-in-family; race  White; sex  Male; native-country  United-States; education-num_na True; education-num -0.0312; hours-per-week 0.3694; age -0.9959; capital-loss -0.2164; fnlwgt -1.3242; capital-gain -0.1459; ,workclass  Private; education  Bachelors; marital-status  Married-civ-spouse; occupation #na#; relationship  Husband; race  White; sex  Male; native-country  United-States; education-num_na True; education-num -0.0312; hours-per-week -0.0356; age -0.1163; capital-loss -0.2164; fnlwgt -0.2389; capital-gain -0.1459; \n",
       "y: CategoryList\n",
       "<50k,>=50k,<50k,<50k,<50k\n",
       "Path: /home/ravi/.fastai/data/adult_sample;\n",
       "\n",
       "Test: None"
      ]
     },
     "execution_count": 30,
     "metadata": {},
     "output_type": "execute_result"
    }
   ],
   "source": [
    "db"
   ]
  },
  {
   "cell_type": "code",
   "execution_count": null,
   "metadata": {},
   "outputs": [],
   "source": []
  }
 ],
 "metadata": {
  "kernelspec": {
   "display_name": "Python 3",
   "language": "python",
   "name": "python3"
  },
  "language_info": {
   "codemirror_mode": {
    "name": "ipython",
    "version": 3
   },
   "file_extension": ".py",
   "mimetype": "text/x-python",
   "name": "python",
   "nbconvert_exporter": "python",
   "pygments_lexer": "ipython3",
   "version": "3.7.2"
  }
 },
 "nbformat": 4,
 "nbformat_minor": 2
}
